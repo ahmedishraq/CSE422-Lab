{
  "nbformat": 4,
  "nbformat_minor": 0,
  "metadata": {
    "colab": {
      "name": "Lab Assignment 01",
      "provenance": []
    },
    "kernelspec": {
      "name": "python3",
      "display_name": "Python 3"
    },
    "language_info": {
      "name": "python"
    }
  },
  "cells": [
    {
      "cell_type": "markdown",
      "source": [
        "**Task 01**"
      ],
      "metadata": {
        "id": "nT9hfTHusg8-"
      }
    },
    {
      "cell_type": "code",
      "source": [
        "import numpy\n",
        "\n",
        "matrix = []\n",
        "with open(\"T1 input1.txt\") as f:\n",
        "  line = f.readlines()\n",
        "\n",
        "for k in line:\n",
        "  matrix.append(k.split())\n",
        "row, column = len(matrix), len(matrix[0])\n",
        "for i in range(row):\n",
        "  for j in range(column):\n",
        "    if matrix[i][j] == \"Y\":\n",
        "      matrix[i][j] = 1\n",
        "    else:\n",
        "      matrix[i][j] = 0\n",
        "\n",
        "visited = numpy.zeros((row, column))\n",
        "track_count = 0\n",
        "\n",
        "\n",
        "def tracker(matrix, visited, a,b):\n",
        "  if not (0 <= a < row) or not (0 <= b < column) or matrix[a][b] == 0 or visited[a][b] == 1:\n",
        "    return 0\n",
        "  else:\n",
        "    acount =1\n",
        "    visited[a][b] = 1\n",
        "    for i in range(a-1, a+2):\n",
        "      for j in range (b-1, b+2):\n",
        "        if a!= i or b!= j:\n",
        "          acount += tracker(matrix, visited, i, j)\n",
        "    return acount\n",
        "\n",
        "for i in range(row):\n",
        "  for j in range(column):\n",
        "    track_count = max(track_count, tracker(matrix, visited, i, j))\n",
        "print(track_count)"
      ],
      "metadata": {
        "colab": {
          "base_uri": "https://localhost:8080/"
        },
        "id": "3lQFTVOJsi6u",
        "outputId": "2d1f038b-5eea-4974-d79c-cf5845f04c60"
      },
      "execution_count": 10,
      "outputs": [
        {
          "output_type": "stream",
          "name": "stdout",
          "text": [
            "7\n"
          ]
        }
      ]
    },
    {
      "cell_type": "markdown",
      "source": [
        "Task **02**"
      ],
      "metadata": {
        "id": "kPOlwEGOz_Yn"
      }
    },
    {
      "cell_type": "code",
      "source": [
        "import numpy\n",
        "from collections import deque as dq\n",
        "\n",
        "city = []\n",
        "with open(\"T2 input1.txt\") as f:\n",
        "  line = f.readlines()\n",
        "\n",
        "row, column = int(line[0]), int(line[1])\n",
        "for k in line[2:]:\n",
        "  city.append(k.split())\n",
        "\n",
        "visited = numpy.zeros((row, column))\n",
        "\n",
        "homo = []\n",
        "non_homo = dq()\n",
        "time = 0\n",
        "\n",
        "for i in range(row):\n",
        "  for j in range(column):\n",
        "    if city[i][j] == \"H\":\n",
        "      homo.append((i,j))\n",
        "    elif city[i][j] == \"A\":\n",
        "      non_homo.append([i,j,time])\n",
        "\n",
        "non_homo_atck_area = [(0,1), (0,-1), (1,0), (-1,0)]\n",
        "\n",
        "while non_homo:\n",
        "  non_homo_x, non_homo_y, time = non_homo.popleft()\n",
        "  visited[non_homo_x][non_homo_y] = 1\n",
        "  for area_x, area_y in non_homo_atck_area:\n",
        "    if 0 <= non_homo_x + area_x < row and 0 <= non_homo_y + area_y < column and city[non_homo_x + area_x][non_homo_y + area_y] == \"H\" and visited[non_homo_x][non_homo_y] == 1:\n",
        "      visited[non_homo_x + area_x][non_homo_y + area_y] = 1\n",
        "      city[non_homo_x + area_x][non_homo_y + area_y] = \"A\"\n",
        "      non_homo.append([non_homo_x + area_x, non_homo_y + area_y, time + 1])\n",
        "      homo.remove((non_homo_x + area_x, non_homo_y + area_y))\n",
        "\n",
        "\n",
        "homo_left = 0\n",
        "for i in range(row):\n",
        "  for j in range(column):\n",
        "    if city[i][j] == \"H\":\n",
        "      homo_left += 1\n",
        "\n",
        "print(\"Time:\", time, \"minutes\")\n",
        "\n",
        "if homo_left == 0:\n",
        "  print(\"No one survived\")\n",
        "else:\n",
        "  print(homo_left, \"survived\")"
      ],
      "metadata": {
        "colab": {
          "base_uri": "https://localhost:8080/"
        },
        "id": "v9gJr8rH0B3P",
        "outputId": "7aaa8b4e-4413-48b7-cd0b-4e6a6ecc226f"
      },
      "execution_count": 17,
      "outputs": [
        {
          "output_type": "stream",
          "name": "stdout",
          "text": [
            "Time: 4 minutes\n",
            "No one survived\n"
          ]
        }
      ]
    }
  ]
}