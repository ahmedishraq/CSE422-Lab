{
  "nbformat": 4,
  "nbformat_minor": 0,
  "metadata": {
    "colab": {
      "name": "Lab Assignment 01",
      "provenance": []
    },
    "kernelspec": {
      "name": "python3",
      "display_name": "Python 3"
    },
    "language_info": {
      "name": "python"
    }
  },
  "cells": [
    {
      "cell_type": "markdown",
      "source": [
        "**Task 01**"
      ],
      "metadata": {
        "id": "nT9hfTHusg8-"
      }
    },
    {
      "cell_type": "code",
      "source": [
        "import numpy\n",
        "\n",
        "matrix = []\n",
        "with open(\"T1 input1.txt\") as f:\n",
        "  line = f.readlines()\n",
        "\n",
        "for k in line:\n",
        "  matrix.append(k.split())\n",
        "row, column = len(matrix), len(matrix[0])\n",
        "for i in range(row):\n",
        "  for j in range(column):\n",
        "    if matrix[i][j] == \"Y\":\n",
        "      matrix[i][j] = 1\n",
        "    else:\n",
        "      matrix[i][j] = 0\n",
        "\n",
        "visited = numpy.zeros((row, column))\n",
        "track_count = 0\n",
        "\n",
        "\n",
        "def tracker(matrix, visited, a,b):\n",
        "  if not (0 <= a < row) or not (0 <= b < column) or matrix[a][b] == 0 or visited[a][b] == 1:\n",
        "    return 0\n",
        "  else:\n",
        "    acount =1\n",
        "    visited[a][b] = 1\n",
        "    for i in range(a-1, a+2):\n",
        "      for j in range (b-1, b+2):\n",
        "        if a!= i or b!= j:\n",
        "          acount += tracker(matrix, visited, i, j)\n",
        "    return acount\n",
        "\n",
        "for i in range(row):\n",
        "  for j in range(column):\n",
        "    track_count = max(track_count, tracker(matrix, visited, i, j))\n",
        "print(track_count)"
      ],
      "metadata": {
        "colab": {
          "base_uri": "https://localhost:8080/"
        },
        "id": "3lQFTVOJsi6u",
        "outputId": "2d1f038b-5eea-4974-d79c-cf5845f04c60"
      },
      "execution_count": 10,
      "outputs": [
        {
          "output_type": "stream",
          "name": "stdout",
          "text": [
            "7\n"
          ]
        }
      ]
    }
  ]
}