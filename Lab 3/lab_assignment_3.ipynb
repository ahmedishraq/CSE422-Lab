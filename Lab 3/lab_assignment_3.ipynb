{
  "nbformat": 4,
  "nbformat_minor": 0,
  "metadata": {
    "colab": {
      "name": "3_19301261_IshraqAhmedEsha",
      "provenance": []
    },
    "kernelspec": {
      "name": "python3",
      "display_name": "Python 3"
    },
    "language_info": {
      "name": "python"
    }
  },
  "cells": [
    {
      "cell_type": "markdown",
      "source": [
        "TASK 1\n"
      ],
      "metadata": {
        "id": "EY3FLc4GSvgd"
      }
    },
    {
      "cell_type": "code",
      "source": [
        "#TASK 1\n",
        "\n",
        "import math \n",
        "import random\n",
        "\n",
        "st_id = input(\"Enter your student ID: \")\n",
        "rr, a, b, d, val = int(st_id[4]), int(st_id[6]), int(st_id[7]), int(st_id[3]),[]\n",
        "RR = int(rr)\n",
        "\n",
        "r_a, r_b = str(a), str(b)\n",
        "\n",
        "rx = int(r_b + r_a)\n",
        "RX=int(int(rx) * 1.5)\n",
        "\n",
        "def minMax(n, ra_idx, gg, val, r_l, r_t):\n",
        "  if n == 3:\n",
        "    return val[ra_idx]\n",
        "  if gg:\n",
        "    rst = RR\n",
        "    for i in range(0,2):\n",
        "\n",
        "      value = minMax(n+1, ra_idx*2+i, False, val, r_l, r_t )\n",
        "      rst = max(rst, value)\n",
        "      r_l = max(r_l, rst)\n",
        "      if r_t <= r_l:\n",
        "        break\n",
        "    return rst\n",
        "  else:\n",
        "    rst = RX\n",
        "    for i in range(0,2):\n",
        "      value = minMax(n+1, ra_idx*2+i, True, val, r_l, r_t)\n",
        "      rst = min(rst, value)\n",
        "      r_t = min(r_t, rst)\n",
        "      if r_t <= r_l:\n",
        "        break\n",
        "    return rst\n",
        "\n",
        "for i in range(8):\n",
        "  e = random.randint(RR, RX)\n",
        "  val.append(e)\n",
        "\n",
        "print(\"Generated 8 random points between the minimum and maximum point limits:\", val)\n",
        "print(\"Total points to win:\", rx)\n",
        "print(\"Achieved point by applying alpha-beta pruning =\", minMax(0,0,True, val,RR,RX))\n",
        "if minMax(0,0,True,val,RR,RX) >= rx:\n",
        "  print(\"The winner is Optimus Prime\")\n",
        "else:\n",
        "  print(\"The winner is Megatron\")\n",
        "print()\n"
      ],
      "metadata": {
        "colab": {
          "base_uri": "https://localhost:8080/"
        },
        "id": "WEUjhZ_tMm7a",
        "outputId": "5546cb5a-9f95-492c-bca1-a113c11f0365"
      },
      "execution_count": null,
      "outputs": [
        {
          "output_type": "stream",
          "name": "stdout",
          "text": [
            "Enter your student ID: 17564039\n",
            "Generated 8 random points between the minimum and maximum point limits: [14, 51, 61, 46, 51, 94, 47, 86]\n",
            "Total points to win: 93\n",
            "Achieved point by applying alpha-beta pruning = 86\n",
            "The winner is Megatron\n",
            "\n"
          ]
        }
      ]
    },
    {
      "cell_type": "markdown",
      "source": [
        "TASK 2\n"
      ],
      "metadata": {
        "id": "Az9fK3m-Sygt"
      }
    },
    {
      "cell_type": "code",
      "source": [
        "#TASK 2\n",
        "\n",
        "print(\"After the shuffle: \")\n",
        "l, c = [],[]\n",
        "for i in range(len(d)):\n",
        "  random.shuffle(val)\n",
        "  r = minMax(0,0,True, val, RR, RX)\n",
        "  l.append(r)\n",
        "print(\"List of all points values from each shuffles:\", l)\n",
        "for i in l:\n",
        "  if i >= rx:\n",
        "    c.append(i)\n",
        "\n",
        "def bigger(array, e):\n",
        "  max = array[0]\n",
        "  for i in range (1, e):\n",
        "    if array[i] > max:\n",
        "      max = array[i]\n",
        "  return max\n",
        "\n",
        "e = len(c)\n",
        "final_rst = bigger(c, e)\n",
        "print(\"The maximum value of all shuffles:\", final_rst)\n",
        "print(r\"Won {e} times out of {d} number of shuffles\")"
      ],
      "metadata": {
        "colab": {
          "base_uri": "https://localhost:8080/",
          "height": 391
        },
        "id": "j6rOLvxJS0NO",
        "outputId": "5c68856e-10d0-460d-e664-ae82bd449697"
      },
      "execution_count": null,
      "outputs": [
        {
          "output_type": "stream",
          "name": "stdout",
          "text": [
            "After the shuffle: \n",
            "List of all points values from each shuffles: []\n"
          ]
        },
        {
          "output_type": "error",
          "ename": "IndexError",
          "evalue": "ignored",
          "traceback": [
            "\u001b[0;31m---------------------------------------------------------------------------\u001b[0m",
            "\u001b[0;31mIndexError\u001b[0m                                Traceback (most recent call last)",
            "\u001b[0;32m<ipython-input-18-e7bc30e4592a>\u001b[0m in \u001b[0;36m<module>\u001b[0;34m()\u001b[0m\n\u001b[1;32m     20\u001b[0m \u001b[0;34m\u001b[0m\u001b[0m\n\u001b[1;32m     21\u001b[0m \u001b[0me\u001b[0m \u001b[0;34m=\u001b[0m \u001b[0mlen\u001b[0m\u001b[0;34m(\u001b[0m\u001b[0mc\u001b[0m\u001b[0;34m)\u001b[0m\u001b[0;34m\u001b[0m\u001b[0;34m\u001b[0m\u001b[0m\n\u001b[0;32m---> 22\u001b[0;31m \u001b[0mfinal_rst\u001b[0m \u001b[0;34m=\u001b[0m \u001b[0mbigger\u001b[0m\u001b[0;34m(\u001b[0m\u001b[0mc\u001b[0m\u001b[0;34m,\u001b[0m \u001b[0me\u001b[0m\u001b[0;34m)\u001b[0m\u001b[0;34m\u001b[0m\u001b[0;34m\u001b[0m\u001b[0m\n\u001b[0m\u001b[1;32m     23\u001b[0m \u001b[0mprint\u001b[0m\u001b[0;34m(\u001b[0m\u001b[0;34m\"The maximum value of all shuffles:\"\u001b[0m\u001b[0;34m,\u001b[0m \u001b[0mfinal_rst\u001b[0m\u001b[0;34m)\u001b[0m\u001b[0;34m\u001b[0m\u001b[0;34m\u001b[0m\u001b[0m\n\u001b[1;32m     24\u001b[0m \u001b[0mprint\u001b[0m\u001b[0;34m(\u001b[0m\u001b[0;34mr\"Won {e} times out of {d} number of shuffles\"\u001b[0m\u001b[0;34m)\u001b[0m\u001b[0;34m\u001b[0m\u001b[0;34m\u001b[0m\u001b[0m\n",
            "\u001b[0;32m<ipython-input-18-e7bc30e4592a>\u001b[0m in \u001b[0;36mbigger\u001b[0;34m(array, e)\u001b[0m\n\u001b[1;32m     13\u001b[0m \u001b[0;34m\u001b[0m\u001b[0m\n\u001b[1;32m     14\u001b[0m \u001b[0;32mdef\u001b[0m \u001b[0mbigger\u001b[0m\u001b[0;34m(\u001b[0m\u001b[0marray\u001b[0m\u001b[0;34m,\u001b[0m \u001b[0me\u001b[0m\u001b[0;34m)\u001b[0m\u001b[0;34m:\u001b[0m\u001b[0;34m\u001b[0m\u001b[0;34m\u001b[0m\u001b[0m\n\u001b[0;32m---> 15\u001b[0;31m   \u001b[0mmax\u001b[0m \u001b[0;34m=\u001b[0m \u001b[0marray\u001b[0m\u001b[0;34m[\u001b[0m\u001b[0;36m0\u001b[0m\u001b[0;34m]\u001b[0m\u001b[0;34m\u001b[0m\u001b[0;34m\u001b[0m\u001b[0m\n\u001b[0m\u001b[1;32m     16\u001b[0m   \u001b[0;32mfor\u001b[0m \u001b[0mi\u001b[0m \u001b[0;32min\u001b[0m \u001b[0mrange\u001b[0m \u001b[0;34m(\u001b[0m\u001b[0;36m1\u001b[0m\u001b[0;34m,\u001b[0m \u001b[0me\u001b[0m\u001b[0;34m)\u001b[0m\u001b[0;34m:\u001b[0m\u001b[0;34m\u001b[0m\u001b[0;34m\u001b[0m\u001b[0m\n\u001b[1;32m     17\u001b[0m     \u001b[0;32mif\u001b[0m \u001b[0marray\u001b[0m\u001b[0;34m[\u001b[0m\u001b[0mi\u001b[0m\u001b[0;34m]\u001b[0m \u001b[0;34m>\u001b[0m \u001b[0mmax\u001b[0m\u001b[0;34m:\u001b[0m\u001b[0;34m\u001b[0m\u001b[0;34m\u001b[0m\u001b[0m\n",
            "\u001b[0;31mIndexError\u001b[0m: list index out of range"
          ]
        }
      ]
    }
  ]
}